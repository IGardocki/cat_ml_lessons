{
  "nbformat": 4,
  "nbformat_minor": 0,
  "metadata": {
    "colab": {
      "provenance": [],
      "authorship_tag": "ABX9TyOWAddg4ZctKJQbpsIbfb6S",
      "include_colab_link": true
    },
    "kernelspec": {
      "name": "python3",
      "display_name": "Python 3"
    },
    "language_info": {
      "name": "python"
    }
  },
  "cells": [
    {
      "cell_type": "markdown",
      "metadata": {
        "id": "view-in-github",
        "colab_type": "text"
      },
      "source": [
        "<a href=\"https://colab.research.google.com/github/IGardocki/cat_ml_lessons/blob/main/Cat_Lessons.ipynb\" target=\"_parent\"><img src=\"https://colab.research.google.com/assets/colab-badge.svg\" alt=\"Open In Colab\"/></a>"
      ]
    },
    {
      "cell_type": "markdown",
      "source": [
        "\n",
        "#1. Intro to Bayes Theorem"
      ],
      "metadata": {
        "id": "GJY1M2cgnPV-"
      }
    },
    {
      "cell_type": "markdown",
      "source": [
        "\n",
        "Bayes Theroem gives us a way to look at the probabilty of an event related to a certain condition.\n",
        "\n",
        "The formula is:\n",
        "\n",
        "![image.png](data:image/png;base64,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)\n",
        "\n",
        "Also, check out this fantastic video about Bayes Theorem:\n",
        "https://youtu.be/HZGCoVF3YvM"
      ],
      "metadata": {
        "id": "LvMDLDtUNafV"
      }
    },
    {
      "cell_type": "markdown",
      "source": [
        "## Cats and Bayes Theroem: Problem 1\n",
        "Given that a cat is biting my toes at 3 am, what is the probability that it is Mimi?\n",
        "- There are two cats in the house when I watch my friend's house (Mimi and Romad)\n",
        "- We assume that only one cat can be in the room I'm sleeping in at any given time (If they get too close, they scream at each other)\n",
        "- Mimi is super into biting my toes at 3 am\n",
        "- Romad sometimes bites my toes at 3 am, but not as often"
      ],
      "metadata": {
        "id": "lhYrcyV_npVM"
      }
    },
    {
      "cell_type": "markdown",
      "source": [
        "In this case, we will actually use:\n",
        "\n",
        "- P(Mimi | toes): The probability that a selected cat is Mimi given that it bites my toes at 3 am.\n",
        " - P(A|B)\n",
        "\n",
        "\n",
        "- P(toes | Mimi): The probability that Mimi bites my toes (0.8)\n",
        " - P(B|A)\n",
        "\n",
        "- P(Mimi): The probability of selecting Mimi of the two cats in the house (0.5)\n",
        " - P(A)\n",
        "\n",
        "- P(toes): The probability of a cat biting my toes at 3 am\n",
        " - P(B)"
      ],
      "metadata": {
        "id": "n6YbHPRJTOpH"
      }
    },
    {
      "cell_type": "markdown",
      "source": [
        "Using the Bayes Theroem formula, we get:\n",
        "- P(Mimi | toes) = (P(toes | Mimi) * P(Mimi)) / P(toes)"
      ],
      "metadata": {
        "id": "r358e2sRV8ni"
      }
    },
    {
      "cell_type": "markdown",
      "source": [
        "But, how do we get to P(toes)? We need to find the total probability that a cat bites my toes at 3 am!"
      ],
      "metadata": {
        "id": "84zt0mvgXBU5"
      }
    },
    {
      "cell_type": "code",
      "source": [
        "# Define the probabilities\n",
        "P_toes_given_romad = 0.05  # Probability of Romad biting my toes at 3 am\n",
        "\n",
        "P_romad = 0.5 # Probability of selecting Romad of the two cats in the house\n",
        "\n",
        "P_toes_given_mimi = 0.8  # Probability of Mimi biting my toes at 3 am\n",
        "\n",
        "P_mimi = 0.5  # Probability of selecting Mimi of the two cats in the house\n",
        "\n",
        "# Calculate the total probability of a cat biting my toes at 3 am\n",
        "P_toes = (P_toes_given_romad * P_romad) + (P_toes_given_mimi * P_mimi)\n",
        "print(f'The probability of me getting my toes bitten at 3 am while I am trying to sleep is: {P_toes}')"
      ],
      "metadata": {
        "colab": {
          "base_uri": "https://localhost:8080/"
        },
        "id": "8fUlCKdKNX3u",
        "outputId": "c6ee7723-83b9-4dd8-a159-304a408925c6"
      },
      "execution_count": null,
      "outputs": [
        {
          "output_type": "stream",
          "name": "stdout",
          "text": [
            "The probability of me getting my toes bitten at 3 am while I am trying to sleep is: 0.42500000000000004\n"
          ]
        }
      ]
    },
    {
      "cell_type": "code",
      "execution_count": null,
      "metadata": {
        "colab": {
          "base_uri": "https://localhost:8080/"
        },
        "id": "Tz1aVB9ANTTW",
        "outputId": "a2d0718e-fd81-4e65-8a49-572a862503e8"
      },
      "outputs": [
        {
          "output_type": "stream",
          "name": "stdout",
          "text": [
            "The probability that Mimi is biting my toes, given that my toes are being attacked at 3 am and have to be up early for work and I really wish this wasn't happening is 0.9411764705882353\n"
          ]
        }
      ],
      "source": [
        "P_mimi_given_toes = (P_toes_given_mimi * P_mimi)/P_toes\n",
        "\n",
        "print(f'The probability that Mimi is biting my toes, given that my toes are being attacked at 3 am and have to be up early for work and I really wish this wasn\\'t happening is {P_mimi_given_toes}')"
      ]
    },
    {
      "cell_type": "markdown",
      "source": [
        "## Cats and Bayes Theroem: Problem 2\n",
        "In this case, I am staying at my parents' house, and there are 4 cats!\n",
        "- The Detective\n",
        " - Loves to hide inside couches\n",
        "- Nacho\n",
        " - Is a lad, very social, does not often hide inside the couch\n",
        "- Smoke (orange manx)\n",
        " - Sometimes hides in couches\n",
        "- Fire (gray manx)\n",
        " - Also sometimes hides in couches\n",
        "\n",
        "Let's find the probability that a cat is The Detective, given that it is hiding inside of a couch in the room that I am in, and there is only one cat in the room!"
      ],
      "metadata": {
        "id": "L_qfeFiPqNGQ"
      }
    },
    {
      "cell_type": "markdown",
      "source": [
        "As a reminder the formula for Bayes Theorem is:\n",
        "\n",
        "\n",
        "![image.png](data:image/png;base64,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)"
      ],
      "metadata": {
        "id": "_aqA2WsBrQr3"
      }
    },
    {
      "cell_type": "markdown",
      "source": [
        "In this case, we will use:\n",
        "\n",
        "- P(The Detective | hiding in couch): The probability that a selected cat is The Detective given that it is hiding inside of a couch.\n",
        " - P(A|B)\n",
        "\n",
        "- P(hiding in couch | The Detective): The probability that The Detective is hiding inside a couch (0.8)\n",
        " - P(B|A)\n",
        "\n",
        "- P(The Detective): The probability of selecting The Detective of the four cats in the house (0.25)\n",
        " - P(A)\n",
        "\n",
        "- P(hiding): The probability of a cat hiding inside a couch, given on cat in the room I'm in, and a randomly selected cat\n",
        " - P(B)"
      ],
      "metadata": {
        "id": "NAHehA9lv_sU"
      }
    },
    {
      "cell_type": "code",
      "source": [
        "# Define the probabilities of the Detective\n",
        "P_hiding_in_couch_given_the_detective = 0.8  # Probability of The Detective hiding inside of a couch\n",
        "P_the_detective = 0.25 # Probability of selecting The Detective of the four cats in the house"
      ],
      "metadata": {
        "id": "odZ3W0mwaS9l"
      },
      "execution_count": null,
      "outputs": []
    },
    {
      "cell_type": "markdown",
      "source": [
        "But what about P(hiding)?? We need to find the total probability of a cat hiding in the couch! And for that, we will need to know the total probability of a cat hiding inside the couch iff there is one cat in the room with me!"
      ],
      "metadata": {
        "id": "307j2zoNyvvO"
      }
    },
    {
      "cell_type": "code",
      "source": [
        "# Define the probabilities of Nacho\n",
        "P_hiding_in_couch_given_nacho = 0.1  # Probability of Nacho hiding inside of a couch\n",
        "P_nacho = 0.25 # Probability of selecting Nacho of the four cats in the house\n",
        "\n",
        "# Define the probabilities of Smoke\n",
        "P_hiding_in_couch_given_smoke = 0.2  # Probability of Smoke hiding inside of a couch\n",
        "P_smoke = 0.25 # Probability of selecting Smoke of the four cats in the house\n",
        "\n",
        "# Define the probabilities of Fire\n",
        "P_hiding_in_couch_given_fire = 0.2  # Probability of Fire hiding inside of a couch\n",
        "P_fire = 0.25 # Probability of selecting Fire of the four cats in the house"
      ],
      "metadata": {
        "id": "YJf6fcLPxxi_"
      },
      "execution_count": null,
      "outputs": []
    },
    {
      "cell_type": "code",
      "source": [
        "P_hiding = P_hiding_in_couch_given_the_detective*P_the_detective + P_hiding_in_couch_given_nacho*P_nacho + P_hiding_in_couch_given_smoke*P_smoke + P_hiding_in_couch_given_fire*P_fire\n",
        "print(P_hiding)"
      ],
      "metadata": {
        "colab": {
          "base_uri": "https://localhost:8080/"
        },
        "id": "6AuSnIecz4GL",
        "outputId": "f83b02d1-30d7-469d-85f1-ec1886ffa746"
      },
      "execution_count": null,
      "outputs": [
        {
          "output_type": "stream",
          "name": "stdout",
          "text": [
            "0.325\n"
          ]
        }
      ]
    },
    {
      "cell_type": "code",
      "source": [
        "P_the_detective_given_hiding_in_couch = (P_hiding_in_couch_given_the_detective*P_the_detective)/P_hiding\n",
        "print(P_the_detective_given_hiding_in_couch)"
      ],
      "metadata": {
        "id": "7sbtLz9e0wGW",
        "colab": {
          "base_uri": "https://localhost:8080/"
        },
        "outputId": "0ed6be97-ee04-4a9b-cb2c-1e577f3b5e31"
      },
      "execution_count": null,
      "outputs": [
        {
          "output_type": "stream",
          "name": "stdout",
          "text": [
            "0.6153846153846154\n"
          ]
        }
      ]
    },
    {
      "cell_type": "code",
      "source": [],
      "metadata": {
        "id": "6qh-5ssZyicN"
      },
      "execution_count": null,
      "outputs": []
    }
  ]
}